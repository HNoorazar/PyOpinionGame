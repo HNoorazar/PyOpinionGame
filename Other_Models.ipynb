{
 "cells": [
  {
   "cell_type": "markdown",
   "metadata": {},
   "source": [
    "# Other Models"
   ]
  },
  {
   "cell_type": "code",
   "execution_count": 10,
   "metadata": {
    "collapsed": true
   },
   "outputs": [],
   "source": [
    "import numpy as np\n",
    "import pandas as pd\n",
    "from pandas import Series, DataFrame\n",
    "\n",
    "import matplotlib.pyplot as plt\n",
    "import matplotlib.animation as animation\n",
    "import matplotlib.image as mpimg\n",
    "from matplotlib import rcParams\n",
    "import seaborn as sb"
   ]
  },
  {
   "cell_type": "markdown",
   "metadata": {},
   "source": [
    "## DeGroot Model"
   ]
  },
  {
   "cell_type": "markdown",
   "metadata": {},
   "source": [
    "### Convert to row stochastic Matrix\n",
    "This code uses the method of the Sinkhorn paper:\n",
    "\n",
    "Sinkhorn, R. (1964). A relationship between arbitrary positive matrices and doubly stochastic matrices. The Annals of Mathematical Statistics, 35(2):876–879.)"
   ]
  },
  {
   "cell_type": "code",
   "execution_count": 70,
   "metadata": {
    "collapsed": true
   },
   "outputs": [],
   "source": [
    "def converged_test_stochastic(matrix, threshold=0.0000001):\n",
    "    localMatrix = np.copy(matrix).astype(float);\n",
    "    e1 = sum(abs(np.sum(localMatrix , axis = 0) - 1));\n",
    "    e2 = sum(abs(np.sum(localMatrix , axis = 1) - 1));\n",
    "    return (e2) > threshold\n",
    "    \n",
    "def one_step_stochastic(matrix):\n",
    "    \"\"\" Here we will do one step towards\n",
    "        Making a given matrix a bio-stochastic one        \n",
    "        It does what OneStep does                         \n",
    "    \"\"\"\n",
    "    # copy the input so that the original input is not changed.\n",
    "    localMatrix = np.copy(matrix).astype(float);\n",
    "    \n",
    "    # Divide each row by sum of the entries in the given row.\n",
    "    localMatrix = np.dot(np.diag(1/np.sum(localMatrix, axis=1)), localMatrix);\n",
    "    \n",
    "    # Divide each column by sum of the elements in the given column.\n",
    "#    localMatrix = np.dot(localMatrix, np.diag(1/np.sum(localMatrix, axis=0)));\n",
    "#    localMatrix = np.triu(localMatrix) + np.transpose(np.triu(localMatrix,1));\n",
    "    return localMatrix\n",
    "    \n",
    "\n",
    "def make_stochastic(matrix):\n",
    "    localMatrix = np.copy(matrix).astype(float);\n",
    "    while (convergedTestBio(localMatrix)):\n",
    "        localMatrix = OneStepBio(localMatrix);\n",
    "    return localMatrix"
   ]
  },
  {
   "cell_type": "markdown",
   "metadata": {},
   "source": [
    "### A random Example"
   ]
  },
  {
   "cell_type": "code",
   "execution_count": 123,
   "metadata": {},
   "outputs": [],
   "source": [
    "pop_size = 3\n",
    "no_time_steps = 100\n",
    "\n",
    "# initial opinion of agents at time t=0\n",
    "initial_opinions = abs(np.random.randn(3,))\n",
    "\n",
    "# Buil the trust matrix (weighted adjacency matrix)\n",
    "trust_matrix = abs(np.random.randn(3,3))\n",
    "trust_matrix = make_stochastic(trust_matrix)\n",
    "\n",
    "# Initialize history of evolution\n",
    "evolution_of_opinions = np.zeros((pop_size, no_time_steps)) \n",
    "evolution_of_opinions[:,0] = initial_opinions\n",
    "\n",
    "# Do the game\n",
    "for time_step in xrange(1,no_time_steps):\n",
    "    evolution_of_opinions[:,time_step] = np.dot(trust_matrix, evolution_of_opinions[:,time_step-1])"
   ]
  },
  {
   "cell_type": "code",
   "execution_count": 124,
   "metadata": {},
   "outputs": [
    {
     "data": {
      "image/png": "[encoded data removed]",
      "text/plain": [
       "<matplotlib.figure.Figure at 0x1a11ed1150>"
      ]
     },
     "metadata": {},
     "output_type": "display_data"
    }
   ],
   "source": [
    "fig1 = plt.figure()\n",
    "plt.plot(evolution_of_opinions.T)\n",
    "plt.xlabel('Time')\n",
    "plt.ylabel('Opinionds')\n",
    "plt.title('Evolution of Opinions')\n",
    "plt.show()"
   ]
  },
  {
   "cell_type": "code",
   "execution_count": 142,
   "metadata": {},
   "outputs": [],
   "source": [
    "np.random.seed(100)\n",
    "pop_size = 10\n",
    "no_time_steps = 100\n",
    "\n",
    "# initial opinion of agents at time t=0\n",
    "initial_opinions = abs(np.random.randn(pop_size,))\n",
    "\n",
    "# Build the trust matrix (weighted adjacency matrix)\n",
    "trust_matrix = abs(np.random.randn(pop_size,pop_size))\n",
    "trust_matrix = make_stochastic(trust_matrix)\n",
    "\n",
    "# Initialize history of evolution\n",
    "r_evolution_of_opinions = np.zeros((pop_size, no_time_steps)) \n",
    "r_evolution_of_opinions[:,0] = initial_opinions\n",
    "\n",
    "# Do the game\n",
    "for time_step in xrange(1,no_time_steps):\n",
    "    r_evolution_of_opinions[:,time_step] = np.dot(trust_matrix, r_evolution_of_opinions[:,time_step-1])"
   ]
  },
  {
   "cell_type": "code",
   "execution_count": 143,
   "metadata": {},
   "outputs": [
    {
     "data": {
      "image/png": "[encoded data removed]",
      "text/plain": [
       "<matplotlib.figure.Figure at 0x1a1546ad50>"
      ]
     },
     "metadata": {},
     "output_type": "display_data"
    }
   ],
   "source": [
    "fig = plt.figure()\n",
    "plt.plot(r_evolution_of_opinions[:,:20].T)\n",
    "plt.xlabel('Time')\n",
    "plt.ylabel('Opinionds')\n",
    "plt.title('Evolution of Opinions')\n",
    "plt.show()"
   ]
  },
  {
   "cell_type": "markdown",
   "metadata": {},
   "source": [
    "### Non Convergent Example"
   ]
  },
  {
   "cell_type": "code",
   "execution_count": 147,
   "metadata": {
    "collapsed": true
   },
   "outputs": [],
   "source": [
    "pop_size = 3\n",
    "no_time_steps = 100\n",
    "\n",
    "# initial opinion of agents at time t=0\n",
    "initial_opinions = abs(np.random.randn(pop_size,))\n",
    "\n",
    "# Build the trust matrix (weighted adjacency matrix)\n",
    "trust = np.array([[0, .5, .5],[1. , 0., 0.], [0., 1., 0.]])\n",
    "\n",
    "# Initialize history of evolution\n",
    "non_conv_evolution = np.zeros((pop_size, no_time_steps)) \n",
    "non_conv_evolution[:,0] = initial_opinions\n",
    "\n",
    "# Do the game\n",
    "for time_step in xrange(1,no_time_steps):\n",
    "    non_conv_evolution[:,time_step] = np.dot(trust, non_conv_evolution[:,time_step-1])"
   ]
  },
  {
   "cell_type": "code",
   "execution_count": 150,
   "metadata": {},
   "outputs": [
    {
     "data": {
      "image/png": "[encoded data removed]",
      "text/plain": [
       "<matplotlib.figure.Figure at 0x1a15847150>"
      ]
     },
     "metadata": {},
     "output_type": "display_data"
    }
   ],
   "source": [
    "fig1 = plt.figure()\n",
    "plt.plot(non_conv_evolution.T)\n",
    "plt.xlabel('Time')\n",
    "plt.ylabel('Opinionds')\n",
    "plt.title('Evolution of Opinions')\n",
    "plt.show()"
   ]
  },
  {
   "cell_type": "code",
   "execution_count": null,
   "metadata": {
    "collapsed": true
   },
   "outputs": [],
   "source": [
    "non_conv_evolution[:,-4]"
   ]
  }
 ],
 "metadata": {
  "kernelspec": {
   "display_name": "Python 2",
   "language": "python",
   "name": "python2"
  },
  "language_info": {
   "codemirror_mode": {
    "name": "ipython",
    "version": 2
   },
   "file_extension": ".py",
   "mimetype": "text/x-python",
   "name": "python",
   "nbconvert_exporter": "python",
   "pygments_lexer": "ipython2",
   "version": "2.7.13"
  }
 },
 "nbformat": 4,
 "nbformat_minor": 2
}
