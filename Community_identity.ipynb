{
 "cells": [
  {
   "cell_type": "markdown",
   "metadata": {},
   "source": [
    "# Two Topics Coupled example\n",
    "\n",
    "## Import Python built-in functions we need to run and plot the game"
   ]
  },
  {
   "cell_type": "code",
   "execution_count": 9,
   "metadata": {
    "collapsed": true
   },
   "outputs": [],
   "source": [
    "import numpy as np\n",
    "import pandas as pd\n",
    "from pandas import Series, DataFrame\n",
    "\n",
    "import matplotlib.pyplot as plt\n",
    "import matplotlib.animation as animation\n",
    "import matplotlib.image as mpimg\n",
    "from matplotlib import rcParams\n",
    "import seaborn as sb"
   ]
  },
  {
   "cell_type": "markdown",
   "metadata": {},
   "source": [
    "### Set up inline matplotlib"
   ]
  },
  {
   "cell_type": "code",
   "execution_count": 10,
   "metadata": {
    "collapsed": true
   },
   "outputs": [],
   "source": [
    "%matplotlib inline\n",
    "rcParams['figure.figsize'] = 5, 4\n",
    "sb.set_style('whitegrid')"
   ]
  },
  {
   "cell_type": "markdown",
   "metadata": {},
   "source": [
    "## Import Game Modules From a Given Path\n",
    "User have to edit the path and put the correct one on his/her machine."
   ]
  },
  {
   "cell_type": "code",
   "execution_count": 11,
   "metadata": {
    "collapsed": true
   },
   "outputs": [],
   "source": [
    "import sys\n",
    "# search path for modules\n",
    "sys.path.append('/Users/hn/Documents/GitHub/PyOpinionGame/')\n",
    "\n",
    "import opiniongame.config as og_cfg\n",
    "import opiniongame.IO as og_io\n",
    "import opiniongame.coupling as og_coupling\n",
    "import opiniongame.state as og_state\n",
    "import opiniongame.adjacency as og_adj\n",
    "import opiniongame.selection as og_select\n",
    "import opiniongame.potentials as og_pot\n",
    "import opiniongame.core as og_core\n",
    "import opiniongame.stopping as og_stop\n",
    "import opiniongame.opinions as og_opinions"
   ]
  },
  {
   "cell_type": "markdown",
   "metadata": {},
   "source": [
    "## Setting Up Game Parameters"
   ]
  },
  {
   "cell_type": "code",
   "execution_count": 12,
   "metadata": {},
   "outputs": [
    {
     "name": "stdout",
     "output_type": "stream",
     "text": [
      "=================\n",
      "StaticParameters:\n",
      "=================\n",
      "Learning rate     = 0.1\n",
      "Unique. strength  = 0.0\n",
      "Skew. strength  = 0.0\n",
      "NumExperiments    = 100\n",
      "PopSize           = 20\n",
      "Threshold         = 0.0001\n",
      "Hthreshold        = 1e-06\n",
      "Kthreshold        = 1e-05\n",
      "ntopics           = 1\n",
      "startingSeed      = 10\n",
      "iterationMax      = 200\n",
      "\n"
     ]
    }
   ],
   "source": [
    "config = og_cfg.staticParameters()\n",
    "\n",
    "path = '/Users/hn/Documents/GitHub/PyOpinionGame/'  # path to the 'staticParameters.cfg'\n",
    "staticParameters = path + 'staticParameters.cfg'\n",
    "\n",
    "config.readFromFile(staticParameters) # Read static parameters\n",
    "config.threshold = 0.0001\n",
    "config.Kthreshold = 0.00001\n",
    "config.startingseed = 10\n",
    "config.learning_rate = 0.1\n",
    "tau = 0.62 #tip of the tent potential function\n",
    "config.printOut()"
   ]
  },
  {
   "cell_type": "markdown",
   "metadata": {},
   "source": [
    "# seed PRNG: must do this before any random numbers are ever sampled during default generation"
   ]
  },
  {
   "cell_type": "code",
   "execution_count": 13,
   "metadata": {},
   "outputs": [
    {
     "name": "stdout",
     "output_type": "stream",
     "text": [
      "SEEDING PRNG: 10\n"
     ]
    }
   ],
   "source": [
    "print(\"SEEDING PRNG: \"+str(config.startingseed))\n",
    "np.random.seed(config.startingseed)"
   ]
  },
  {
   "cell_type": "markdown",
   "metadata": {},
   "source": [
    "# Set up the state of the system\n",
    "### State of the system includes:\n",
    "- Weight Matrix (Matrix of the coupling wieghts between topic)\n",
    "- Initial Opinions of agents\n",
    "- Adjacency matrix of the network\n",
    "\n",
    "*** This is just initialization of the state, later we update some elements of it.***"
   ]
  },
  {
   "cell_type": "code",
   "execution_count": 18,
   "metadata": {},
   "outputs": [
    {
     "name": "stdout",
     "output_type": "stream",
     "text": [
      "WEIGHT SHAPE   : (75, 1, 1)\n",
      "OPINION SHAPE  : (75, 1)\n",
      "ADJACENCY SHAPE: (75, 75)\n",
      "==> World state validation passed.\n",
      "\n"
     ]
    }
   ],
   "source": [
    "# These are the default matrices for the state of the system:\n",
    "# If you want to change them, you can generate a new one in the following cell\n",
    "default_weights = og_coupling.weights_no_coupling(config.popSize, config.ntopics)\n",
    "default_initialOpinions = og_opinions.initialize_opinions(config.popSize, config.ntopics)\n",
    "default_adj = og_adj.make_adj(config.popSize, 'full')\n",
    "\n",
    "state = og_state.WorldState(adj=default_adj, \n",
    "                            couplingWeights=default_weights, \n",
    "                            initialOpinions=default_initialOpinions, \n",
    "                            initialHistorySize=100, \n",
    "                            historyGrowthScale=2)\n",
    "state.validate()"
   ]
  },
  {
   "cell_type": "markdown",
   "metadata": {},
   "source": [
    "## User Defined States and parameters Can go in the following cell:"
   ]
  },
  {
   "cell_type": "code",
   "execution_count": 23,
   "metadata": {},
   "outputs": [
    {
     "name": "stdout",
     "output_type": "stream",
     "text": [
      "=================\n",
      "StaticParameters:\n",
      "=================\n",
      "Learning rate     = 0.1\n",
      "Unique. strength  = 0.0\n",
      "Skew. strength  = 0.0\n",
      "NumExperiments    = 100\n",
      "PopSize           = 75\n",
      "Threshold         = 0.0001\n",
      "Hthreshold        = 1e-06\n",
      "Kthreshold        = 1e-05\n",
      "ntopics           = 1\n",
      "startingSeed      = 10\n",
      "iterationMax      = 10000\n",
      "\n"
     ]
    }
   ],
   "source": [
    "numberOfCommunities = 3\n",
    "communityPopSize    = 25\n",
    "config.popSize = numberOfCommunities * communityPopSize\n",
    "\n",
    "# List of upper bound probability of interaction between communities\n",
    "uppBound_list = [0.0]\n",
    "\n",
    "# List of uniqueness Strength parameter\n",
    "individStrength = [0.0]\n",
    "\n",
    "config.learning_rate = 0.1\n",
    "config.iterationMax = 10000\n",
    "tau = 0.62\n",
    "config.printOut()\n",
    "#\n",
    "# functions for use by the simulation engine\n",
    "#\n",
    "ufuncs = og_cfg.UserFunctions(og_select.PickTwoWeighted,\n",
    "                              og_stop.iterationStop,\n",
    "                              og_pot.createTent(tau))\n",
    "                              \n",
    "\n",
    "# Number of different initial opinions, \n",
    "# i.e. number of different games with different initials.\n",
    "noInitials = np.arange(1)\n",
    "noGames = np.arange(1)    # Number of different game orders."
   ]
  },
  {
   "cell_type": "code",
   "execution_count": 33,
   "metadata": {},
   "outputs": [
    {
     "name": "stdout",
     "output_type": "stream",
     "text": [
      "(uniqForce, upperBound)  = (0.0, 0.0)\n",
      "countInitials = 1\n",
      "\n",
      "('One Experiment Done', 'gameOrders = ', 1)\n"
     ]
    }
   ],
   "source": [
    "# Run experiments with different adjacencies, different initials, and different order of games.\n",
    "for uniqForce in individStrength:\n",
    "    config.uniqstrength = uniqForce\n",
    "    for upperBound in uppBound_list:\n",
    "        # Generate different adjacency matrix with different prob. of interaction\n",
    "        # between different communities\n",
    "        state.adj = og_adj.CommunitiesMatrix(communityPopSize, numberOfCommunities, upperBound)\n",
    "                \n",
    "        for countInitials in noInitials:\n",
    "            # for each adjacency, generate 100 different initial opinions\n",
    "            # state.initialOpinions = og_opinions.initialize_opinions(config.popSize, config.ntopics)\n",
    "         \n",
    "            # Pick three communities with similar opinions to begin with!\n",
    "            state.initialOpinions = np.zeros((config.popSize, 1))\n",
    "            state.initialOpinions[0:25]  = np.random.uniform(low=0.0, high=.25, size=(25,1))\n",
    "            state.initialOpinions[25:50] = np.random.uniform(low=0.41, high=.58, size=(25,1))\n",
    "            state.initialOpinions[50:75] = np.random.uniform(low=0.74, high= 1, size=(25,1))\n",
    "   \n",
    "            state.couplingWeights = og_coupling.weights_no_coupling(config.popSize, config.ntopics)\n",
    "            all_experiments_history = {}\n",
    "            print \"(uniqForce, upperBound)  = ({}, {})\".format(uniqForce, upperBound)\n",
    "            print \"countInitials = {}\".format(countInitials + 1)\n",
    "            \n",
    "            for gameOrders in noGames:\n",
    "                #cProfile.run('og_core.run_until_convergence(config, state, ufuncs)')\n",
    "                state = og_core.run_until_convergence(config, state, ufuncs)\n",
    "                print(\"One Experiment Done\" , \"gameOrders = \" , gameOrders+1)\n",
    "                all_experiments_history[ 'experiment' + str(gameOrders+1)] = state.history[0:state.nextHistoryIndex,:,:]\n",
    "            og_io.saveMatrix('uB' + str(upperBound) + '*uS' + str(config.uniqstrength) + \n",
    "                             '*initCount' + str(countInitials+21) + '.mat', all_experiments_history)"
   ]
  },
  {
   "cell_type": "code",
   "execution_count": 38,
   "metadata": {},
   "outputs": [
    {
     "name": "stdout",
     "output_type": "stream",
     "text": [
      "['experiment1']\n",
      "(10000, 75, 1)\n"
     ]
    }
   ],
   "source": [
    "print all_experiments_history.keys()\n",
    "print all_experiments_history['experiment1'].shape"
   ]
  },
  {
   "cell_type": "markdown",
   "metadata": {},
   "source": [
    "# Plot the experiment done above:"
   ]
  },
  {
   "cell_type": "code",
   "execution_count": 39,
   "metadata": {},
   "outputs": [],
   "source": [
    "time, population_size, no_of_topics = evolution = all_experiments_history['experiment1'].shape\n",
    "evolution = all_experiments_history['experiment1'].reshape(time, population_size)"
   ]
  },
  {
   "cell_type": "code",
   "execution_count": 45,
   "metadata": {},
   "outputs": [
    {
     "data": {
      "image/png": "[encoded data removed]",
      "text/plain": [
       "<matplotlib.figure.Figure at 0x112651e90>"
      ]
     },
     "metadata": {},
     "output_type": "display_data"
    }
   ],
   "source": [
    "fig = plt.figure()\n",
    "plt.plot(evolution)\n",
    "plt.xlabel('Time')\n",
    "plt.ylabel('Opinionds')\n",
    "plt.title('Evolution of Opinions')\n",
    "fig.set_size_inches(10,5)\n",
    "plt.show()"
   ]
  },
  {
   "cell_type": "markdown",
   "metadata": {},
   "source": [
    "# Skew Uniqueness Tendency Driver:"
   ]
  },
  {
   "cell_type": "markdown",
   "metadata": {},
   "source": [
    "I observed when having tendency for uniqueness is drawn from normal distribution, we do not get an interesting result. For example, initial intuition was that uniqueness for tendency would delay stabilization of the network, however, it did not. So, here we draw uniqueness tendencies from skew normal distribution.\n",
    "When most neighbors tend to go in one directions, then probability of individuals to go to the opposite direction would be more than the niose in the same direction:"
   ]
  },
  {
   "cell_type": "code",
   "execution_count": 46,
   "metadata": {},
   "outputs": [
    {
     "name": "stdout",
     "output_type": "stream",
     "text": [
      "WEIGHT SHAPE   : (75, 1, 1)\n",
      "OPINION SHAPE  : (75, 1)\n",
      "ADJACENCY SHAPE: (75, 75)\n",
      "==> World state validation passed.\n",
      "\n"
     ]
    }
   ],
   "source": [
    "state = og_state.WorldState(adj=default_adj, \n",
    "                            couplingWeights=default_weights, \n",
    "                            initialOpinions=default_initialOpinions, \n",
    "                            initialHistorySize=100, \n",
    "                            historyGrowthScale=2)\n",
    "state.validate()"
   ]
  },
  {
   "cell_type": "code",
   "execution_count": 54,
   "metadata": {},
   "outputs": [
    {
     "name": "stdout",
     "output_type": "stream",
     "text": [
      "=================\n",
      "StaticParameters:\n",
      "=================\n",
      "Learning rate     = 0.1\n",
      "Unique. strength  = 0.0\n",
      "Skew. strength  = 0.0\n",
      "NumExperiments    = 100\n",
      "PopSize           = 20\n",
      "Threshold         = 0.01\n",
      "Hthreshold        = 1e-06\n",
      "Kthreshold        = 2e-05\n",
      "ntopics           = 1\n",
      "startingSeed      = 10\n",
      "iterationMax      = 200\n",
      "\n"
     ]
    }
   ],
   "source": [
    "#\n",
    "# load configuration\n",
    "#\n",
    "config = og_cfg.staticParameters()\n",
    "config.readFromFile('staticParameters.cfg')\n",
    "config.threshold = 0.01\n",
    "config.printOut()"
   ]
  },
  {
   "cell_type": "code",
   "execution_count": 55,
   "metadata": {},
   "outputs": [
    {
     "name": "stdout",
     "output_type": "stream",
     "text": [
      "SEEDING PRNG: 10\n"
     ]
    }
   ],
   "source": [
    "#\n",
    "# seed PRNG: must do this before any random numbers are\n",
    "# ever sampled during default generation\n",
    "#\n",
    "print((\"SEEDING PRNG: \"+str(config.startingseed)))\n",
    "np.random.seed(config.startingseed)"
   ]
  },
  {
   "cell_type": "markdown",
   "metadata": {},
   "source": [
    "## Initiate State"
   ]
  },
  {
   "cell_type": "code",
   "execution_count": 56,
   "metadata": {},
   "outputs": [
    {
     "name": "stdout",
     "output_type": "stream",
     "text": [
      "WEIGHT SHAPE   : (20, 1, 1)\n",
      "OPINION SHAPE  : (20, 1)\n",
      "ADJACENCY SHAPE: (20, 20)\n",
      "==> World state validation passed.\n",
      "\n"
     ]
    }
   ],
   "source": [
    "# These are the default matrices for the state of the system:\n",
    "# If you want to change them, you can generate a new one in the following cell\n",
    "default_weights = og_coupling.weights_no_coupling(config.popSize, config.ntopics)\n",
    "default_initialOpinions = og_opinions.initialize_opinions(config.popSize, config.ntopics)\n",
    "default_adj = og_adj.make_adj(config.popSize, 'full')\n",
    "\n",
    "state = og_state.WorldState(adj=default_adj, \n",
    "                            couplingWeights=default_weights, \n",
    "                            initialOpinions=default_initialOpinions, \n",
    "                            initialHistorySize=100, \n",
    "                            historyGrowthScale=2)\n",
    "state.validate()"
   ]
  },
  {
   "cell_type": "code",
   "execution_count": 57,
   "metadata": {},
   "outputs": [
    {
     "name": "stdout",
     "output_type": "stream",
     "text": [
      "=================\n",
      "StaticParameters:\n",
      "=================\n",
      "Learning rate     = 0.1\n",
      "Unique. strength  = 0.0\n",
      "Skew. strength  = 0.0\n",
      "NumExperiments    = 100\n",
      "PopSize           = 75\n",
      "Threshold         = 0.01\n",
      "Hthreshold        = 1e-06\n",
      "Kthreshold        = 2e-05\n",
      "ntopics           = 1\n",
      "startingSeed      = 10\n",
      "iterationMax      = 30000\n",
      "\n"
     ]
    }
   ],
   "source": [
    "#\n",
    "# run\n",
    "#\n",
    "numberOfCommunities = 3\n",
    "communityPopSize    = 25\n",
    "config.popSize = numberOfCommunities * communityPopSize\n",
    "\n",
    "# List of upper bound probability of interaction between communities\n",
    "uppBound_list = np.array([.001, 0.004, 0.007, 0.01, 0.013, 0.016, 0.019])\n",
    "#\n",
    "# List of uniqueness Strength parameter\n",
    "#\n",
    "individStrength = np.arange(0.00001, 0.000251, 0.00006)\n",
    "individStrength = np.append(0, individStrength)\n",
    "individStrength = np.array([0.0])\n",
    "skewstrength = 2.0\n",
    "\n",
    "tau = 0.62\n",
    "config.iterationMax = 30000\n",
    "config.printOut()"
   ]
  },
  {
   "cell_type": "code",
   "execution_count": 59,
   "metadata": {},
   "outputs": [],
   "source": [
    "#\n",
    "# functions for use by the simulation engine\n",
    "#\n",
    "ufuncs = og_cfg.UserFunctions(og_select.PickTwoWeighted,\n",
    "                              og_stop.iterationStop,\n",
    "                              og_pot.createTent(tau))\n"
   ]
  },
  {
   "cell_type": "code",
   "execution_count": 60,
   "metadata": {},
   "outputs": [
    {
     "name": "stdout",
     "output_type": "stream",
     "text": [
      "(upperBound, uniqForce) = ( 0.001 , 0.0 )\n",
      "countInitials= 1\n",
      "\n",
      "(upperBound, uniqForce) = ( 0.004 , 0.0 )\n",
      "countInitials= 1\n",
      "\n",
      "(upperBound, uniqForce) = ( 0.007 , 0.0 )\n",
      "countInitials= 1\n",
      "\n",
      "(upperBound, uniqForce) = ( 0.01 , 0.0 )\n",
      "countInitials= 1\n",
      "\n",
      "(upperBound, uniqForce) = ( 0.013 , 0.0 )\n",
      "countInitials= 1\n",
      "\n",
      "(upperBound, uniqForce) = ( 0.016 , 0.0 )\n",
      "countInitials= 1\n",
      "\n",
      "(upperBound, uniqForce) = ( 0.019 , 0.0 )\n",
      "countInitials= 1\n",
      "\n"
     ]
    }
   ],
   "source": [
    "                              \n",
    "noInitials = np.arange(1) # Number of different initial opinions.\n",
    "noGames = np.arange(1)    # Number of different game orders.\n",
    "# Run experiments with different adjacencies, different initials, and different order of games.\n",
    "for uniqForce in individStrength:\n",
    "    config.uniqstrength = uniqForce\n",
    "    for upperBound in uppBound_list:\n",
    "        # Generate different adjacency matrix with different prob. of interaction\n",
    "        # between different communities\n",
    "        state.adj = og_adj.CommunitiesMatrix(communityPopSize, numberOfCommunities, upperBound)\n",
    "        print\"(upperBound, uniqForce) = (\", upperBound, \",\" , uniqForce , \")\"            \n",
    "        for countInitials in noInitials:\n",
    "            # for each adjacency, generate 100 different initial opinions\n",
    "            # state.initialOpinions = og_opinions.initialize_opinions(config.popSize, config.ntopics)\n",
    "         \n",
    "            # Pick three communities with similar opinions to begin with!\n",
    "            state.initialOpinions = np.zeros((config.popSize, 1))\n",
    "            state.initialOpinions[0:25]  = np.random.uniform(low=0.08, high=.1, size=(25,1))\n",
    "            state.initialOpinions[25:50] = np.random.uniform(low=0.49, high=.51, size=(25,1))\n",
    "            state.initialOpinions[50:75] = np.random.uniform(low=0.9, high= .92, size=(25,1))\n",
    "   \n",
    "            state.couplingWeights = og_coupling.weights_no_coupling(config.popSize, config.ntopics)\n",
    "            all_experiments_history = {}\n",
    "\n",
    "            print \"countInitials=\", countInitials + 1\n",
    "            \n",
    "            for gameOrders in noGames:\n",
    "                #cProfile.run('og_core.run_until_convergence(config, state, ufuncs)')\n",
    "                state = og_core.run_until_convergence(config, state, ufuncs)\n",
    "                state.history = state.history[0:state.nextHistoryIndex,:,:]\n",
    "                idx_IN_columns = [i for i in xrange(np.shape(state.history)[0]) if (i % (config.popSize)) == 0]\n",
    "                state.history = state.history[idx_IN_columns,:,:]\n",
    "                all_experiments_history[ 'experiment' + str(gameOrders+1)] = state.history\n",
    "            og_io.saveMatrix('uB' + str(upperBound) + '*uS' + str(config.uniqstrength) + \n",
    "                             '*initCount' + str(countInitials+1) + '.mat', all_experiments_history)\n"
   ]
  },
  {
   "cell_type": "code",
   "execution_count": 62,
   "metadata": {},
   "outputs": [
    {
     "data": {
      "text/plain": [
       "['experiment1']"
      ]
     },
     "execution_count": 62,
     "metadata": {},
     "output_type": "execute_result"
    }
   ],
   "source": [
    "all_experiments_history.keys()"
   ]
  },
  {
   "cell_type": "code",
   "execution_count": 67,
   "metadata": {},
   "outputs": [],
   "source": [
    "time, population_size, no_of_topics = all_experiments_history['experiment1'].shape\n",
    "evolution = all_experiments_history['experiment1'].reshape(time, population_size)"
   ]
  },
  {
   "cell_type": "code",
   "execution_count": 74,
   "metadata": {},
   "outputs": [
    {
     "data": {
      "image/png": "[encoded data removed]",
      "text/plain": [
       "<matplotlib.figure.Figure at 0x1a1dd2a550>"
      ]
     },
     "metadata": {},
     "output_type": "display_data"
    }
   ],
   "source": [
    "fig = plt.figure()\n",
    "plt.plot(evolution)\n",
    "plt.xlabel('Time')\n",
    "plt.ylabel('Opinionds')\n",
    "plt.title('Evolution of Opinions of 3 communities')\n",
    "fig.set_size_inches(10,5)\n",
    "plt.show()"
   ]
  },
  {
   "cell_type": "code",
   "execution_count": null,
   "metadata": {
    "collapsed": true
   },
   "outputs": [],
   "source": []
  }
 ],
 "metadata": {
  "kernelspec": {
   "display_name": "Python 2",
   "language": "python",
   "name": "python2"
  },
  "language_info": {
   "codemirror_mode": {
    "name": "ipython",
    "version": 2
   },
   "file_extension": ".py",
   "mimetype": "text/x-python",
   "name": "python",
   "nbconvert_exporter": "python",
   "pygments_lexer": "ipython2",
   "version": "2.7.13"
  }
 },
 "nbformat": 4,
 "nbformat_minor": 2
}
