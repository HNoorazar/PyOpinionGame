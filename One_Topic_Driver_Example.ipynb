{
 "cells": [
  {
   "cell_type": "markdown",
   "metadata": {},
   "source": [
    "## Import Python built-in functions we need to run and plot the game"
   ]
  },
  {
   "cell_type": "code",
   "execution_count": 24,
   "metadata": {
    "collapsed": true
   },
   "outputs": [],
   "source": [
    "import numpy as np\n",
    "from numpy.random import randn\n",
    "import pandas as pd\n",
    "from pandas import Series, DataFrame\n",
    "\n",
    "import matplotlib.pyplot as plt\n",
    "import matplotlib.animation as animation\n",
    "import matplotlib.image as mpimg\n",
    "from matplotlib import rcParams\n",
    "import seaborn as sb"
   ]
  },
  {
   "cell_type": "markdown",
   "metadata": {},
   "source": [
    "### Set up inline matplotlib\n",
    "This tells Python to plot the figure right in here, in the notebook."
   ]
  },
  {
   "cell_type": "code",
   "execution_count": 25,
   "metadata": {
    "collapsed": true
   },
   "outputs": [],
   "source": [
    "%matplotlib inline\n",
    "#rcParams['figure.figsize'] = 5, 4\n",
    "sb.set_style('whitegrid')"
   ]
  },
  {
   "cell_type": "markdown",
   "metadata": {},
   "source": [
    "## Import Game Modules From a Given Path\n",
    "User have to edit the path and put the correct one on his/her machine."
   ]
  },
  {
   "cell_type": "code",
   "execution_count": 26,
   "metadata": {
    "collapsed": true
   },
   "outputs": [],
   "source": [
    "import sys\n",
    "# search path for modules\n",
    "sys.path.append('/Users/hn/Documents/GitHub/PyOpinionGame/')\n",
    "\n",
    "import opiniongame.config as og_cfg\n",
    "import opiniongame.IO as og_io\n",
    "import opiniongame.coupling as og_coupling\n",
    "import opiniongame.state as og_state\n",
    "import opiniongame.adjacency as og_adj\n",
    "import opiniongame.selection as og_select\n",
    "import opiniongame.potentials as og_pot\n",
    "import opiniongame.core as og_core\n",
    "import opiniongame.stopping as og_stop\n",
    "import opiniongame.opinions as og_opinions"
   ]
  },
  {
   "cell_type": "markdown",
   "metadata": {},
   "source": [
    "## Setting Up Game Parameters"
   ]
  },
  {
   "cell_type": "code",
   "execution_count": 27,
   "metadata": {},
   "outputs": [
    {
     "name": "stdout",
     "output_type": "stream",
     "text": [
      "=================\n",
      "StaticParameters:\n",
      "=================\n",
      "Learning rate     = 0.1\n",
      "Unique. strength  = 0.0\n",
      "Skew. strength  = 0.0\n",
      "NumExperiments    = 100\n",
      "PopSize           = 20\n",
      "Threshold         = 0.0001\n",
      "Hthreshold        = 1e-06\n",
      "Kthreshold        = 1e-05\n",
      "ntopics           = 1\n",
      "startingSeed      = 20\n",
      "iterationMax      = 100\n",
      "\n"
     ]
    }
   ],
   "source": [
    "config = og_cfg.staticParameters()\n",
    "\n",
    "path = '/Users/hn/Documents/GitHub/PyOpinionGame/'  # path to the 'staticParameters.cfg'\n",
    "staticParameters = path + 'staticParameters.cfg'\n",
    "\n",
    "config.readFromFile(staticParameters)\n",
    "config.threshold = 0.0001\n",
    "config.Kthreshold = 0.00001\n",
    "config.startingseed = 20\n",
    "config.learning_rate = 0.1\n",
    "tau = 0.62 #tip of the tent potential function\n",
    "config.printOut()\n"
   ]
  },
  {
   "cell_type": "markdown",
   "metadata": {},
   "source": [
    "# seed PRNG: must do this before any random numbers are ever sampled during default generation\n"
   ]
  },
  {
   "cell_type": "code",
   "execution_count": 28,
   "metadata": {},
   "outputs": [
    {
     "name": "stdout",
     "output_type": "stream",
     "text": [
      "SEEDING PRNG: 20\n"
     ]
    }
   ],
   "source": [
    "print(\"SEEDING PRNG: \"+str(config.startingseed))\n",
    "np.random.seed(config.startingseed)\n"
   ]
  },
  {
   "cell_type": "markdown",
   "metadata": {},
   "source": [
    "# Set up the state of the system\n",
    "### State of the system includes:\n",
    "- Weight Matrix (Matrix of the coupling wieghts between topic)\n",
    "- Initial Opinions of agents\n",
    "- Adjacency matrix of the network"
   ]
  },
  {
   "cell_type": "code",
   "execution_count": 29,
   "metadata": {
    "collapsed": true
   },
   "outputs": [],
   "source": [
    "# These are the default matrices for the state of the system:\n",
    "# If you want to change them, you can generate a new one in the following cell\n",
    "default_weights = og_coupling.weights_no_coupling(config.popSize, config.ntopics)\n",
    "default_initialOpinions = og_opinions.initialize_opinions(config.popSize, config.ntopics)\n",
    "default_adj = og_adj.make_adj(config.popSize, 'full')"
   ]
  },
  {
   "cell_type": "markdown",
   "metadata": {},
   "source": [
    "## User Defined States Can go in the following cell:"
   ]
  },
  {
   "cell_type": "code",
   "execution_count": 30,
   "metadata": {
    "collapsed": true
   },
   "outputs": [],
   "source": [
    "# user_weights = \n",
    "# user_initialOpinions = \n",
    "# user_adj = "
   ]
  },
  {
   "cell_type": "code",
   "execution_count": 48,
   "metadata": {},
   "outputs": [
    {
     "name": "stdout",
     "output_type": "stream",
     "text": [
      "WEIGHT SHAPE   : (20, 1, 1)\n",
      "OPINION SHAPE  : (20, 1)\n",
      "ADJACENCY SHAPE: (20, 20)\n",
      "==> World state validation passed.\n",
      "\n"
     ]
    }
   ],
   "source": [
    "state = og_state.WorldState(adj=default_adj, \n",
    "                            couplingWeights=default_weights, \n",
    "                            initialOpinions=default_initialOpinions, \n",
    "                            initialHistorySize=100, \n",
    "                            historyGrowthScale=2)\n",
    "state.validate()\n",
    "ufuncs = og_cfg.UserFunctions(og_select.FastPairSelection,\n",
    "                              og_stop.iterationStop,\n",
    "                              og_pot.createTent(tau))"
   ]
  },
  {
   "cell_type": "markdown",
   "metadata": {},
   "source": [
    "# Run The Game"
   ]
  },
  {
   "cell_type": "code",
   "execution_count": 49,
   "metadata": {},
   "outputs": [
    {
     "name": "stdout",
     "output_type": "stream",
     "text": [
      "\n"
     ]
    }
   ],
   "source": [
    "#\n",
    "# run the game\n",
    "#\n",
    "state = og_core.run_until_convergence(config, state, ufuncs)\n",
    "\n",
    "# Extract and save the history of the game\n",
    "rdict = {}\n",
    "rdict['history'] = state.history\n",
    "og_io.saveMatrix('output.mat', rdict)"
   ]
  },
  {
   "cell_type": "markdown",
   "metadata": {},
   "source": [
    "### Reshape the history\n",
    "Since here we have just one topic, the matrix can be converted to a 2D array, rather than 3.\n",
    "This makes the plotting job easier:"
   ]
  },
  {
   "cell_type": "code",
   "execution_count": 50,
   "metadata": {
    "collapsed": true
   },
   "outputs": [],
   "source": [
    "time, population_size, no_of_topics = rdict['history'].shape\n",
    "evolution = rdict['history'].reshape(time, population_size)"
   ]
  },
  {
   "cell_type": "markdown",
   "metadata": {},
   "source": [
    "# Convert to Panda DataFrame and then plot."
   ]
  },
  {
   "cell_type": "code",
   "execution_count": 51,
   "metadata": {
    "collapsed": true
   },
   "outputs": [],
   "source": [
    "df = pd.DataFrame(data=evolution, index=None, columns=None)"
   ]
  },
  {
   "cell_type": "code",
   "execution_count": 99,
   "metadata": {},
   "outputs": [
    {
     "data": {
      "text/plain": [
       "<matplotlib.figure.Figure at 0x1a116fe2d0>"
      ]
     },
     "metadata": {},
     "output_type": "display_data"
    },
    {
     "data": {
      "image/png": "[encoded data removed]",
      "text/plain": [
       "<matplotlib.figure.Figure at 0x107ee9510>"
      ]
     },
     "metadata": {},
     "output_type": "display_data"
    }
   ],
   "source": [
    "fig = plt.figure()\n",
    "ax = df.plot(legend=False)\n",
    "ax.set_xlabel(\"Time\")\n",
    "ax.set_ylabel(\"Opinions\")\n",
    "ax.set_title('Evolution of Opinions')\n",
    "plt.show()"
   ]
  },
  {
   "cell_type": "markdown",
   "metadata": {},
   "source": [
    "# Plot the numpy array"
   ]
  },
  {
   "cell_type": "code",
   "execution_count": 98,
   "metadata": {},
   "outputs": [
    {
     "data": {
      "image/png": "[encoded data removed]",
      "text/plain": [
       "<matplotlib.figure.Figure at 0x1a114aead0>"
      ]
     },
     "metadata": {},
     "output_type": "display_data"
    }
   ],
   "source": [
    "fig1 = plt.figure()\n",
    "plt.plot(evolution)\n",
    "plt.xlabel('Time')\n",
    "plt.ylabel('Opinionds')\n",
    "plt.title('Evolution of Opinions')\n",
    "plt.show()"
   ]
  },
  {
   "cell_type": "code",
   "execution_count": null,
   "metadata": {
    "collapsed": true
   },
   "outputs": [],
   "source": []
  },
  {
   "cell_type": "markdown",
   "metadata": {
    "collapsed": true
   },
   "source": [
    "These codes were developed as a part of the our [opinion game model.](https://arxiv.org/abs/1607.06806)"
   ]
  }
 ],
 "metadata": {
  "kernelspec": {
   "display_name": "Python 2",
   "language": "python",
   "name": "python2"
  },
  "language_info": {
   "codemirror_mode": {
    "name": "ipython",
    "version": 2
   },
   "file_extension": ".py",
   "mimetype": "text/x-python",
   "name": "python",
   "nbconvert_exporter": "python",
   "pygments_lexer": "ipython2",
   "version": "2.7.13"
  }
 },
 "nbformat": 4,
 "nbformat_minor": 2
}
